{
 "cells": [
  {
   "cell_type": "markdown",
   "metadata": {},
   "source": [
    "TS-1094TS-B3D2\n",
    "https://jlcpcb.com/partdetail/Yuandi-TS_1094TSB3D2/C5148426\n",
    "https://www.amazon.ca/Gikfun-12x12x7-3-Tactile-Momentary-Arduino/dp/B01E38OS7K/ref=sr_1_1_sspa?crid=3O63NWTLBIJ7Q&dib=eyJ2IjoiMSJ9.UDyCq1_r86mNz7Vnsd-2zkK6Vu6_YnI7IwOQivXcme22PV3qL4LP5If95pLlRExGbghiCm3czTa4n2L_4iJMjQqNd7rRBoLwGHsbUrobCnincIwtYq9LFvb3rCX26NUueFmdDvdj9lP5kfLIYY1K-55OnsVreSyu1unrxYIgG504IqAqD7Mo4TO5OV2paqdbV_XNL_b4pY46MMu5Q4ZbYC4SEOozrJh_rnoX9b7_nijs9_bHTpVcyD5QA1ImmW5u15a8ixbWiAOVVl5_LMxM0J-lazr6j0cdya96az7_zeo.fMd2cXN6i5It3Wubti5dj_QlXfb-SvNP2muVBZe7Jr0&dib_tag=se&keywords=tactile+switch+cap&qid=1741201262&sprefix=%2Caps%2C294&sr=8-1-spons&sp_csd=d2lkZ2V0TmFtZT1zcF9hdGY&psc=1"
   ]
  }
 ],
 "metadata": {
  "language_info": {
   "name": "python"
  }
 },
 "nbformat": 4,
 "nbformat_minor": 2
}

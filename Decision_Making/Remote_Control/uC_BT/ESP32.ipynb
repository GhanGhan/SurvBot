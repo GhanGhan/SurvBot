{
 "cells": [
  {
   "cell_type": "markdown",
   "id": "788ced44-4c36-4db1-bf25-c4d7abae55a4",
   "metadata": {},
   "source": [
    "# ESP32\n",
    "- need an IC to act as the microcontroller, and Bluetooth transciever, needs to have it own Bluetooth antenna\n",
    "    - will use an ESP32 module\n",
    "- Peripherals:\n",
    "    - SPI or I2c :\n",
    "       - Communicate with LCD screen\n",
    "       - **(2-4) in total**\n",
    "    - GPIO:\n",
    "      - Start/top recording ddata\n",
    "      - save data\n",
    "      - connect/disconnect bluetooth\n",
    "      - \"lock\" robot\n",
    "      - completely stop robot\n",
    "      - 3 extra to extend functionality\n",
    "      - **8 buttons in total**\n",
    "    - ADC:\n",
    "      - left joysticks - linear movement\n",
    "      - right joysticks - rotational movement\n",
    "      - **2 Joysticks in total**\n",
    "- **Number of pins needed for UI: 12 to 14**\n",
    "- Programming:\n",
    "    - UART\n",
    "    - DTR (Data terminal Ready)\n",
    "    - RTS (Request to Send)\n",
    "- **Number of pins needed for programming: 4**\n",
    "- **Total: 16 to 18 pins** - to account for overlap, use model that has at least 25, preferrably 30 pins\n",
    "- Decided on **ESP32-WROOM-32E-N4**\n",
    "    "
   ]
  },
  {
   "cell_type": "code",
   "execution_count": null,
   "id": "adc1f13c-6b11-45c7-bac6-047a67397956",
   "metadata": {},
   "outputs": [],
   "source": []
  }
 ],
 "metadata": {
  "kernelspec": {
   "display_name": "Python 3 (ipykernel)",
   "language": "python",
   "name": "python3"
  },
  "language_info": {
   "codemirror_mode": {
    "name": "ipython",
    "version": 3
   },
   "file_extension": ".py",
   "mimetype": "text/x-python",
   "name": "python",
   "nbconvert_exporter": "python",
   "pygments_lexer": "ipython3",
   "version": "3.13.0"
  }
 },
 "nbformat": 4,
 "nbformat_minor": 5
}

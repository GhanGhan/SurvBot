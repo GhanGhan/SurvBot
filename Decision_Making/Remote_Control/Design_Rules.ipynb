{
 "cells": [
  {
   "cell_type": "markdown",
   "metadata": {},
   "source": [
    "- WILL BE USING 1 0Z EXTERNAL COPPER LAYERS, AND 0.5 OZ INNER LAYERS\n",
    "\n",
    "# Controlled Impedance\n",
    "- impedance for USB 2.0 is 90 ohms, Signal Layer - L1, Bottom Ref - L2, Trace Spacing = 8 mil, Impedance trace to copper = 8 mil\n",
    "- Coplanar Differential Pair\n",
    "- **JLC04161H-7628**\n",
    "    - Trace Width: 10.52 mils - 0.2672mm\n",
    "    - Trace Spacing: 8.0 mils - 0.2023\n",
    "    - Impedance Trace to Copper: 8.0 mils - 0.2023\n",
    "\n",
    "# Trace Widths\n",
    "- Types of signals, low-speed analog, digital and communication and power traces\n",
    "- Power trace: Max expected current is 0.5A to the ESP32 Module for Bluetooth power\n",
    "- Will use 12 mil for LARGE power traces (or 0.3 mm)\n",
    "- Will use 6 mils for LOW power and regular signal traces or (0.15 mm)\n",
    "- PTH annular ring >= 0.20 mm\n",
    "    - https://www.youtube.com/watch?v=6G3pYljVRtE, https://www.youtube.com/watch?v=sY57bWZ6d_c\n",
    "- NPTH annular ring >= 0.45mm\n",
    "\n",
    "# Spacing\n",
    "- same-net track spacing  = 0.25mm\n",
    "- Track-to-Track: 5 mils - 0.125mm\n",
    "- Pad to track clearance : 0.15mm\n",
    "- track to hole clearance: >= 0.2mm\n",
    "- via hole to hole spacing >= 0.2mm\n",
    "\n",
    "# Vias\n",
    "- minimum preferred hole size is 0.2mm\n",
    "- via diameter should be at least 0.15mm larger than hole size\n",
    "- small: 0.45mm pad and 0.25mm drill\n",
    "- medium: 0.7mm pad with 0.3mm drill\n",
    "- large: 0.8 mm pad with 0.4mm drill"
   ]
  },
  {
   "cell_type": "markdown",
   "metadata": {},
   "source": []
  }
 ],
 "metadata": {
  "language_info": {
   "name": "python"
  }
 },
 "nbformat": 4,
 "nbformat_minor": 2
}
